{
 "cells": [
  {
   "cell_type": "code",
   "execution_count": 3,
   "metadata": {},
   "outputs": [],
   "source": [
    "import pandas as pd\n",
    "from openai import OpenAI\n",
    "from dotenv import load_dotenv\n",
    "import os\n",
    "\n",
    "load_dotenv()\n",
    "\n",
    "client = OpenAI(api_key=os.environ.get(\"OPENAI_API_KEY\"))\n",
    "\n",
    "def clean_text(text, n_skip_lines=15):\n",
    "    text_clean = \"\\n\".join(text.split(\"\\n\")[n_skip_lines:])\n",
    "    return text_clean\n"
   ]
  },
  {
   "cell_type": "code",
   "execution_count": 4,
   "metadata": {},
   "outputs": [],
   "source": [
    "# params\n",
    "openai_model = \"gpt-3.5-turbo\"\n",
    "data_path = './data/emails_train_sample.csv'\n",
    "nrows = 1000\n",
    "#nrows = None"
   ]
  },
  {
   "cell_type": "code",
   "execution_count": 5,
   "metadata": {},
   "outputs": [
    {
     "name": "stdout",
     "output_type": "stream",
     "text": [
      "(1000, 2)\n"
     ]
    }
   ],
   "source": [
    "df = pd.read_csv(data_path, nrows=nrows)\n",
    "print(df.shape)"
   ]
  },
  {
   "cell_type": "code",
   "execution_count": 15,
   "metadata": {},
   "outputs": [
    {
     "data": {
      "text/html": [
       "<div>\n",
       "<style scoped>\n",
       "    .dataframe tbody tr th:only-of-type {\n",
       "        vertical-align: middle;\n",
       "    }\n",
       "\n",
       "    .dataframe tbody tr th {\n",
       "        vertical-align: top;\n",
       "    }\n",
       "\n",
       "    .dataframe thead th {\n",
       "        text-align: right;\n",
       "    }\n",
       "</style>\n",
       "<table border=\"1\" class=\"dataframe\">\n",
       "  <thead>\n",
       "    <tr style=\"text-align: right;\">\n",
       "      <th></th>\n",
       "      <th>file</th>\n",
       "      <th>message</th>\n",
       "    </tr>\n",
       "  </thead>\n",
       "  <tbody>\n",
       "    <tr>\n",
       "      <th>0</th>\n",
       "      <td>ruscitti-k/inbox/4.</td>\n",
       "      <td>Message-ID: &lt;8472651.1075845282216.JavaMail.ev...</td>\n",
       "    </tr>\n",
       "    <tr>\n",
       "      <th>1</th>\n",
       "      <td>lenhart-m/deleted_items/167.</td>\n",
       "      <td>Message-ID: &lt;18748638.1075854964503.JavaMail.e...</td>\n",
       "    </tr>\n",
       "    <tr>\n",
       "      <th>2</th>\n",
       "      <td>mann-k/all_documents/702.</td>\n",
       "      <td>Message-ID: &lt;2912554.1075845592770.JavaMail.ev...</td>\n",
       "    </tr>\n",
       "    <tr>\n",
       "      <th>3</th>\n",
       "      <td>delainey-d/_sent_mail/344.</td>\n",
       "      <td>Message-ID: &lt;33094249.1075854487085.JavaMail.e...</td>\n",
       "    </tr>\n",
       "    <tr>\n",
       "      <th>4</th>\n",
       "      <td>jones-t/sent/1156.</td>\n",
       "      <td>Message-ID: &lt;5799064.1075847178612.JavaMail.ev...</td>\n",
       "    </tr>\n",
       "  </tbody>\n",
       "</table>\n",
       "</div>"
      ],
      "text/plain": [
       "                           file  \\\n",
       "0           ruscitti-k/inbox/4.   \n",
       "1  lenhart-m/deleted_items/167.   \n",
       "2     mann-k/all_documents/702.   \n",
       "3    delainey-d/_sent_mail/344.   \n",
       "4            jones-t/sent/1156.   \n",
       "\n",
       "                                             message  \n",
       "0  Message-ID: <8472651.1075845282216.JavaMail.ev...  \n",
       "1  Message-ID: <18748638.1075854964503.JavaMail.e...  \n",
       "2  Message-ID: <2912554.1075845592770.JavaMail.ev...  \n",
       "3  Message-ID: <33094249.1075854487085.JavaMail.e...  \n",
       "4  Message-ID: <5799064.1075847178612.JavaMail.ev...  "
      ]
     },
     "metadata": {},
     "output_type": "display_data"
    }
   ],
   "source": [
    "display(df.head())"
   ]
  },
  {
   "cell_type": "code",
   "execution_count": 8,
   "metadata": {},
   "outputs": [
    {
     "name": "stdout",
     "output_type": "stream",
     "text": [
      "Message-ID: <9528079.1075840796899.JavaMail.evans@thyme>\n",
      "Date: Wed, 10 Oct 2001 09:23:30 -0700 (PDT)\n",
      "From: j.kaminski@enron.com\n",
      "Subject: Patel\n",
      "Mime-Version: 1.0\n",
      "Content-Type: text/plain; charset=us-ascii\n",
      "Content-Transfer-Encoding: 7bit\n",
      "X-From: Kaminski, Vince J </O=ENRON/OU=NA/CN=RECIPIENTS/CN=VKAMINS>\n",
      "X-To: \n",
      "X-cc: \n",
      "X-bcc: \n",
      "X-Folder: \\vkamins\\Tasks\n",
      "X-Origin: KAMINSKI-V\n",
      "X-FileName: vincent kaminski 1-30-02.pst\n",
      "\n",
      "Keyur Patel\n",
      "MIT Sloan School of Management, Class of 2002\n",
      "617-290-3703 (Mobile) * keyur@mit.edu\n"
     ]
    }
   ],
   "source": [
    "df_sample = df.sample(1)\n",
    "text = df_sample.message.values[0]\n",
    "print(text)"
   ]
  },
  {
   "cell_type": "code",
   "execution_count": 9,
   "metadata": {},
   "outputs": [
    {
     "name": "stdout",
     "output_type": "stream",
     "text": [
      "Keyur Patel\n",
      "MIT Sloan School of Management, Class of 2002\n",
      "617-290-3703 (Mobile) * keyur@mit.edu\n"
     ]
    }
   ],
   "source": [
    "text_clean = clean_text(text)\n",
    "print(text_clean)"
   ]
  },
  {
   "cell_type": "code",
   "execution_count": 13,
   "metadata": {},
   "outputs": [
    {
     "name": "stdout",
     "output_type": "stream",
     "text": [
      "\n",
      "perform PII entity extraction from the below email message(s).\n",
      "\n",
      "please return the PII related extracted entities in a long format of key-value pairs like\n",
      "\n",
      "[\n",
      "    {\"<entity-type>\": \"<entity-value>\"},\n",
      "    {\"<entity-type>\": \"<entity-value>\"},\n",
      "...\n",
      "]\n",
      "\n",
      "```\n",
      "Keyur Patel\n",
      "MIT Sloan School of Management, Class of 2002\n",
      "617-290-3703 (Mobile) * keyur@mit.edu\n",
      "```\n",
      "\n"
     ]
    }
   ],
   "source": [
    "prompt = f\"\"\"\n",
    "perform PII entity extraction from the below email message(s).\n",
    "\n",
    "please return the PII related extracted entities in a long format of key-value pairs like\n",
    "\n",
    "[\n",
    "    {{\"<entity-type>\": \"<entity-value>\"}},\n",
    "    {{\"<entity-type>\": \"<entity-value>\"}},\n",
    "...\n",
    "]\n",
    "\n",
    "```\n",
    "{text_clean}\n",
    "```\n",
    "\"\"\"\n",
    "print(prompt)"
   ]
  },
  {
   "cell_type": "code",
   "execution_count": 14,
   "metadata": {},
   "outputs": [
    {
     "name": "stdout",
     "output_type": "stream",
     "text": [
      "[\n",
      "    {\"Name\": \"Keyur Patel\"},\n",
      "    {\"School\": \"MIT Sloan School of Management\"},\n",
      "    {\"Year of Graduation\": \"2002\"},\n",
      "    {\"Phone Number\": \"617-290-3703\"},\n",
      "    {\"Email\": \"keyur@mit.edu\"}\n",
      "]\n"
     ]
    }
   ],
   "source": [
    "chat_completion = client.chat.completions.create(\n",
    "    messages=[\n",
    "        {\n",
    "            \"role\": \"user\",\n",
    "            \"content\": prompt\n",
    "        }\n",
    "    ],\n",
    "    model=openai_model,\n",
    ")\n",
    "chat_completion_message = chat_completion.choices[0].message\n",
    "print(chat_completion_message.content)"
   ]
  }
 ],
 "metadata": {
  "kernelspec": {
   "display_name": "venv",
   "language": "python",
   "name": "python3"
  },
  "language_info": {
   "codemirror_mode": {
    "name": "ipython",
    "version": 3
   },
   "file_extension": ".py",
   "mimetype": "text/x-python",
   "name": "python",
   "nbconvert_exporter": "python",
   "pygments_lexer": "ipython3",
   "version": "3.10.11"
  }
 },
 "nbformat": 4,
 "nbformat_minor": 2
}
