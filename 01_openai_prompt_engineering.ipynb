{
 "cells": [
  {
   "cell_type": "code",
   "execution_count": 85,
   "metadata": {},
   "outputs": [],
   "source": [
    "import pandas as pd\n",
    "from openai import OpenAI\n",
    "from dotenv import load_dotenv\n",
    "import os\n",
    "import json\n",
    "from pydantic import BaseModel\n",
    "import pprint as pp\n",
    "from src.utils import clean_file_id, clean_message\n",
    "\n",
    "\n",
    "load_dotenv()\n",
    "\n",
    "client = OpenAI(api_key=os.environ.get(\"OPENAI_API_KEY\"))\n",
    "\n",
    "\n",
    "def make_prompt(text):\n",
    "    \"\"\"Helper function to make the prompt for OpenAI.\"\"\"\n",
    "    prompt = f\"\"\"\n",
    "    perform PII entity extraction from the below email message(s) using the provided `extract_pii_entities` function.\n",
    "    \n",
    "    we are interested in extracting the following PII entities:\n",
    "    - names: These can come from email heading or body text.\n",
    "    - phone numbers: Typically phone numbers may naturally appear somewhere in the message text.\n",
    "    - email addresses: These can come from email to/from fields or body text of the message(s) themselves.\n",
    "    - physical addresses: Typically physical addresses may naturally appear sometimes somewhere in the message text.\n",
    "\n",
    "    message(s):\n",
    "    ```\n",
    "    {text}\n",
    "    ```\n",
    "    \"\"\"\n",
    "    return prompt\n",
    "\n",
    "\n",
    "def get_tools():\n",
    "    \"\"\"Helper function to return the tools to make available for OpenAI.\"\"\"\n",
    "\n",
    "    class MessageEntities(BaseModel):\n",
    "        \"\"\"Message entities.\"\"\"\n",
    "\n",
    "        names: list[str] = []\n",
    "        phone_numbers: list[str] = []\n",
    "        email_addresses: list[str] = []\n",
    "        physical_addresses: list[str] = []\n",
    "\n",
    "    tools = [\n",
    "        {\n",
    "            \"type\": \"function\",\n",
    "            \"function\": {\n",
    "                \"name\": \"extract_pii_entities\",\n",
    "                \"description\": \"Extract any PII related entities found in the message(s). If there are none found, return an empty list for each type.\",\n",
    "                \"parameters\": MessageEntities.model_json_schema(),\n",
    "            },\n",
    "        }\n",
    "    ]\n",
    "    return tools"
   ]
  },
  {
   "cell_type": "code",
   "execution_count": 86,
   "metadata": {},
   "outputs": [],
   "source": [
    "# params\n",
    "tag = \"dev\"\n",
    "openai_model = \"gpt-3.5-turbo\"\n",
    "data_path = \"./data/emails_train_small.csv\"\n",
    "nrows = 1000\n",
    "# nrows = None"
   ]
  },
  {
   "cell_type": "code",
   "execution_count": 87,
   "metadata": {},
   "outputs": [
    {
     "name": "stdout",
     "output_type": "stream",
     "text": [
      "(1000, 2)\n"
     ]
    }
   ],
   "source": [
    "df = pd.read_csv(data_path, nrows=nrows)\n",
    "print(df.shape)"
   ]
  },
  {
   "cell_type": "code",
   "execution_count": 88,
   "metadata": {},
   "outputs": [
    {
     "data": {
      "text/html": [
       "<div>\n",
       "<style scoped>\n",
       "    .dataframe tbody tr th:only-of-type {\n",
       "        vertical-align: middle;\n",
       "    }\n",
       "\n",
       "    .dataframe tbody tr th {\n",
       "        vertical-align: top;\n",
       "    }\n",
       "\n",
       "    .dataframe thead th {\n",
       "        text-align: right;\n",
       "    }\n",
       "</style>\n",
       "<table border=\"1\" class=\"dataframe\">\n",
       "  <thead>\n",
       "    <tr style=\"text-align: right;\">\n",
       "      <th></th>\n",
       "      <th>file</th>\n",
       "      <th>message</th>\n",
       "    </tr>\n",
       "  </thead>\n",
       "  <tbody>\n",
       "    <tr>\n",
       "      <th>0</th>\n",
       "      <td>germany-c/calp_hopewell/4.</td>\n",
       "      <td>Message-ID: &lt;17014999.1075853725448.JavaMail.e...</td>\n",
       "    </tr>\n",
       "    <tr>\n",
       "      <th>1</th>\n",
       "      <td>campbell-l/all_documents/247.</td>\n",
       "      <td>Message-ID: &lt;23887281.1075851883486.JavaMail.e...</td>\n",
       "    </tr>\n",
       "    <tr>\n",
       "      <th>2</th>\n",
       "      <td>kitchen-l/_americas/mrha/ooc/270.</td>\n",
       "      <td>Message-ID: &lt;3290028.1075840876828.JavaMail.ev...</td>\n",
       "    </tr>\n",
       "    <tr>\n",
       "      <th>3</th>\n",
       "      <td>zufferli-j/sent_items/124.</td>\n",
       "      <td>Message-ID: &lt;7771939.1075842030615.JavaMail.ev...</td>\n",
       "    </tr>\n",
       "    <tr>\n",
       "      <th>4</th>\n",
       "      <td>lokay-m/all_documents/906.</td>\n",
       "      <td>Message-ID: &lt;19991611.1075844044421.JavaMail.e...</td>\n",
       "    </tr>\n",
       "  </tbody>\n",
       "</table>\n",
       "</div>"
      ],
      "text/plain": [
       "                                file  \\\n",
       "0         germany-c/calp_hopewell/4.   \n",
       "1      campbell-l/all_documents/247.   \n",
       "2  kitchen-l/_americas/mrha/ooc/270.   \n",
       "3         zufferli-j/sent_items/124.   \n",
       "4         lokay-m/all_documents/906.   \n",
       "\n",
       "                                             message  \n",
       "0  Message-ID: <17014999.1075853725448.JavaMail.e...  \n",
       "1  Message-ID: <23887281.1075851883486.JavaMail.e...  \n",
       "2  Message-ID: <3290028.1075840876828.JavaMail.ev...  \n",
       "3  Message-ID: <7771939.1075842030615.JavaMail.ev...  \n",
       "4  Message-ID: <19991611.1075844044421.JavaMail.e...  "
      ]
     },
     "metadata": {},
     "output_type": "display_data"
    }
   ],
   "source": [
    "display(df.head())"
   ]
  },
  {
   "cell_type": "code",
   "execution_count": 89,
   "metadata": {},
   "outputs": [
    {
     "name": "stdout",
     "output_type": "stream",
     "text": [
      "====================================================================================================\n",
      "kean-s/archiving/untitled/962.\n",
      "kean_s_archiving_untitled_962_\n",
      "FYI.  I am sending Vince some materials we have used\n",
      "----- Forwarded by Steven J Kean/NA/Enron on 09/20/2000 09:21 AM -----\n",
      "\n",
      "\tVince J Kaminski@ECT\n",
      "\t09/18/2000 01:26 PM\n",
      "\t\t \n",
      "\t\t To: Steven J Kean/NA/Enron@Enron\n",
      "\t\t cc: Charlene Jackson/Corp/Enron@ENRON, Celeste Roberts/HOU/ECT@ECT, Vince J \n",
      "Kaminski/HOU/ECT@ECT, Ashley Baxter/Corp/Enron@Enron\n",
      "\t\t Subject: Presentation to faculty and students at Berkeley\n",
      "\n",
      "Steve,\n",
      "\n",
      "I am a lead recruiter at the University of California at Berkeley for\n",
      "Enron Analyst/Associate program.\n",
      "\n",
      "I contacted several friends who work at Berkeley and received an invitation\n",
      "from one of them to make a presentation at the weekly Faculty Seminar\n",
      "of the Dept. of Industrial Engineering and Operations Research.\n",
      "\n",
      "The students and faculty members from the business school will be also \n",
      "invited.\n",
      "\n",
      "Berkeley in general, and Department of Industrial Engineering and Operations \n",
      "Research in\n",
      "particular, are important centers of academic research on electricity markets\n",
      "(S. Oren works very closely with Severin Borenstein).\n",
      "\n",
      "My presentation will focus on the Analyst/Associate program. I shall  also \n",
      "have\n",
      "an opportunity to discuss the power markets in California (I expect many\n",
      "questions) before many experts who are very  important to shaping\n",
      "public opinion and regulatory agenda.\n",
      "\n",
      "Please, let me know who in you group could help me in preparing this \n",
      "presentation\n",
      "and in presenting  Enron's point of view in a more effective way.\n",
      "\n",
      "\n",
      "Vince\n",
      "\n",
      "FYI. The name of my friend who invited me:\n",
      "\n",
      "Shmuel S. Oren, Professor\n",
      "Dept. of Industrial Engineering\n",
      "and Operations Research\n",
      "4117 Etcheverry Hall\n",
      "University of California\n",
      "Berkeley, CA 94720-1777\n",
      "====================================================================================================\n"
     ]
    }
   ],
   "source": [
    "df_sample = df.sample(1)\n",
    "file_id = df_sample.file.values[0]\n",
    "file_id_clean = clean_file_id(file_id)\n",
    "text = df_sample.message.values[0]\n",
    "text_clean = clean_message(text)\n",
    "\n",
    "print(\"=\" * 100)\n",
    "print(file_id)\n",
    "print(file_id_clean)\n",
    "print(text_clean)\n",
    "print(\"=\" * 100)\n",
    "\n",
    "prompt = make_prompt(text_clean)\n",
    "tools = get_tools()\n",
    "chat_completion = client.chat.completions.create(\n",
    "    messages=[{\"role\": \"user\", \"content\": prompt}],\n",
    "    model=openai_model,\n",
    "    tools=tools,\n",
    "    tool_choice={\n",
    "        \"type\": \"function\",\n",
    "        \"function\": {\"name\": \"extract_pii_entities\"},\n",
    "    },\n",
    ")\n",
    "\n",
    "# extract response\n",
    "chat_completion_message = chat_completion.choices[0].message\n",
    "tool_call = chat_completion_message.tool_calls[0]\n",
    "extracted_data = json.loads(tool_call.function.arguments)\n",
    "pp.pprint(extracted_data)"
   ]
  },
  {
   "cell_type": "code",
   "execution_count": null,
   "metadata": {},
   "outputs": [
    {
     "name": "stdout",
     "output_type": "stream",
     "text": [
      "Saving to ./data/labels_llm/dev/salisbury_h_inbox_299___dev.json\n",
      "Done.\n"
     ]
    }
   ],
   "source": [
    "output_path = f\"./data/labels_llm/{tag}/{file_id_clean}__{tag}.json\"\n",
    "os.makedirs(os.path.dirname(output_path), exist_ok=True)\n",
    "print(f\"Saving to {output_path}\")\n",
    "extracted_data[\"file_id\"] = file_id\n",
    "with open(output_path, \"w\") as f:\n",
    "    json.dump(extracted_data, f)\n",
    "print(\"Done.\")"
   ]
  }
 ],
 "metadata": {
  "kernelspec": {
   "display_name": "venv",
   "language": "python",
   "name": "python3"
  },
  "language_info": {
   "codemirror_mode": {
    "name": "ipython",
    "version": 3
   },
   "file_extension": ".py",
   "mimetype": "text/x-python",
   "name": "python",
   "nbconvert_exporter": "python",
   "pygments_lexer": "ipython3",
   "version": "3.10.11"
  }
 },
 "nbformat": 4,
 "nbformat_minor": 2
}
