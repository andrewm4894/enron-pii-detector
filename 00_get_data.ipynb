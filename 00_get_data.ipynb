{
 "cells": [
  {
   "cell_type": "markdown",
   "metadata": {},
   "source": [
    "# Get Data"
   ]
  },
  {
   "cell_type": "markdown",
   "metadata": {},
   "source": [
    "This notebook:\n",
    "\n",
    "- downloads the raw data.\n",
    "- extracts it.\n",
    "- shuffles it.\n",
    "- splits it into train, validation and test sets (along with \"small\" versions of each as easier to start/work with examples).\n",
    "- saves the sets as CSV files.\n",
    "- can be used to eyeball the data a little."
   ]
  },
  {
   "cell_type": "code",
   "execution_count": 1,
   "metadata": {},
   "outputs": [],
   "source": [
    "import zipfile\n",
    "import pandas as pd"
   ]
  },
  {
   "cell_type": "markdown",
   "metadata": {},
   "source": [
    "Get the data from kaggle and save it to the data folder along with some splitting and sampling."
   ]
  },
  {
   "cell_type": "code",
   "execution_count": 2,
   "metadata": {},
   "outputs": [],
   "source": [
    "# params\n",
    "dataset_name = \"wcukierski/enron-email-dataset\"\n",
    "n_small = 10000"
   ]
  },
  {
   "cell_type": "code",
   "execution_count": 3,
   "metadata": {},
   "outputs": [
    {
     "name": "stdout",
     "output_type": "stream",
     "text": [
      "enron-email-dataset.zip: Skipping, found more recently modified local copy (use --force to force download)\n"
     ]
    }
   ],
   "source": [
    "# download using kaggle cli\n",
    "!kaggle datasets download -d {dataset_name} -p ./data"
   ]
  },
  {
   "cell_type": "code",
   "execution_count": 4,
   "metadata": {},
   "outputs": [],
   "source": [
    "# unzip the data using python\n",
    "with zipfile.ZipFile(\"./data/enron-email-dataset.zip\", 'r') as zip_ref:\n",
    "    zip_ref.extractall(\"./data/\")"
   ]
  },
  {
   "cell_type": "code",
   "execution_count": 5,
   "metadata": {},
   "outputs": [
    {
     "name": "stdout",
     "output_type": "stream",
     "text": [
      "(517401, 2)\n"
     ]
    }
   ],
   "source": [
    "# read data\n",
    "df = pd.read_csv(\"./data/emails.csv\")\n",
    "print(df.shape)"
   ]
  },
  {
   "cell_type": "code",
   "execution_count": 6,
   "metadata": {},
   "outputs": [
    {
     "name": "stdout",
     "output_type": "stream",
     "text": [
      "df_train: (413921, 2)\n",
      "df_train_small: (10000, 2)\n",
      "df_test: (51740, 2)\n",
      "df_test_small: (10000, 2)\n",
      "df_holdout: (51740, 2)\n",
      "df_holdout_small: (10000, 2)\n"
     ]
    }
   ],
   "source": [
    "\n",
    "# shuffle data\n",
    "df = df.sample(frac=1).reset_index(drop=True)\n",
    "\n",
    "# split into train, test and holdout 80, 10, 10\n",
    "df_train = df.sample(frac=0.8)\n",
    "df_train_small = df_train.sample(n_small)\n",
    "df_test = df.drop(df_train.index)\n",
    "df_holdout = df_test.sample(frac=0.5)\n",
    "df_holdout_small = df_holdout.sample(n_small)\n",
    "df_test = df_test.drop(df_holdout.index)\n",
    "df_test_small = df_test.sample(n_small)\n",
    "\n",
    "# print shapes\n",
    "print(f\"df_train: {df_train.shape}\")\n",
    "print(f\"df_train_small: {df_train_small.shape}\")\n",
    "print(f\"df_test: {df_test.shape}\")\n",
    "print(f\"df_test_small: {df_test_small.shape}\")\n",
    "print(f\"df_holdout: {df_holdout.shape}\")\n",
    "print(f\"df_holdout_small: {df_holdout_small.shape}\")\n",
    "\n",
    "# save data\n",
    "df_train.to_csv(\"./data/emails_train.csv\", index=False)\n",
    "df_train_small.to_csv(\"./data/emails_train_small.csv\", index=False)\n",
    "df_test.to_csv(\"./data/emails_test.csv\", index=False)\n",
    "df_test_small.to_csv(\"./data/emails_test_small.csv\", index=False)\n",
    "df_holdout.to_csv(\"./data/emails_holdout.csv\", index=False)\n",
    "df_holdout_small.to_csv(\"./data/emails_holdout_small.csv\", index=False)"
   ]
  },
  {
   "cell_type": "code",
   "execution_count": 7,
   "metadata": {},
   "outputs": [
    {
     "name": "stdout",
     "output_type": "stream",
     "text": [
      "====================================================================================================\n",
      "file: guzman-m/discussion_threads/796.\n",
      "message:\n",
      "Message-ID: <17904092.1075840657699.JavaMail.evans@thyme>\n",
      "Date: Thu, 22 Feb 2001 09:34:00 -0800 (PST)\n",
      "From: bill.iii@enron.com\n",
      "To: portland.shift@enron.com\n",
      "Subject: Group Meeting on Tuesday Feb 27th\n",
      "Mime-Version: 1.0\n",
      "Content-Type: text/plain; charset=us-ascii\n",
      "Content-Transfer-Encoding: 7bit\n",
      "X-From: Bill Williams III\n",
      "X-To: Portland Shift\n",
      "X-cc: \n",
      "X-bcc: \n",
      "X-Folder: \\mark guzman 6-28-02\\Notes Folders\\Discussion threads\n",
      "X-Origin: GUZMAN-M\n",
      "X-FileName: mark guzman 6-28-02.nsf\n",
      "\n",
      "We will be having a group meeting at 4 pm on Feb 27th. The meeting will be to \n",
      "discuss strategies, identify issues, and set direction for this spring.\n",
      "The meeting should last till 6...or 6:30.  Parking will be available in the \n",
      "garage below.\n",
      "\n",
      "Pizza will be provided.\n",
      "\n",
      "Bill\n",
      "====================================================================================================\n",
      "====================================================================================================\n",
      "file: whalley-l/discussion_threads/735.\n",
      "message:\n",
      "Message-ID: <14927272.1075857999084.JavaMail.evans@thyme>\n",
      "Date: Fri, 8 Dec 2000 02:20:00 -0800 (PST)\n",
      "From: alhamd.alkhayat@enron.com\n",
      "To: greg.whalley@enron.com\n",
      "Subject: decline of public exchanges\n",
      "Mime-Version: 1.0\n",
      "Content-Type: text/plain; charset=us-ascii\n",
      "Content-Transfer-Encoding: 7bit\n",
      "X-From: Alhamd Alkhayat\n",
      "X-To: Greg Whalley\n",
      "X-cc: \n",
      "X-bcc: \n",
      "X-Folder: \\Lawrence_Whalley_Dec2000\\Notes Folders\\Discussion threads\n",
      "X-Origin: Whalley-L\n",
      "X-FileName: gwhalley.nsf\n",
      "\n",
      "as per our conversation earlier in the week\n",
      "\n",
      "\n",
      "\n",
      "Alhamd Alkhayat\n",
      "ENRON CORP.\n",
      "+1(713)853-0315\n",
      "====================================================================================================\n",
      "====================================================================================================\n",
      "file: brawner-s/discussion_threads/36.\n",
      "message:\n",
      "Message-ID: <19103059.1075856117858.JavaMail.evans@thyme>\n",
      "Date: Wed, 29 Nov 2000 04:03:00 -0800 (PST)\n",
      "From: sean.boyle@enron.com\n",
      "To: scott.neal@enron.com, jared.kaiser@enron.com, sandra.brawner@enron.com, \n",
      "\tdick.jenkins@enron.com, brad.mckay@enron.com, \n",
      "\tscott.hendrickson@enron.com, andrea.ring@enron.com, \n",
      "\tsusan.pereira@enron.com, dan.junek@enron.com, \n",
      "\tchris.germany@enron.com, judy.townsend@enron.com, \n",
      "\trobin.barbe@enron.com, tammi.depaolis@enron.com, \n",
      "\tjohn.taylor@enron.com, scott.goodell@enron.com, \n",
      "\tvictoria.versen@enron.com\n",
      "Subject: EOL Reports & Analysis\n",
      "Mime-Version: 1.0\n",
      "Content-Type: text/plain; charset=us-ascii\n",
      "Content-Transfer-Encoding: 7bit\n",
      "X-From: Sean Boyle\n",
      "X-To: Scott Neal, Jared Kaiser, Sandra F Brawner, Dick Jenkins, Brad McKay, Scott Hendrickson, Andrea Ring, Susan W Pereira, Dan Junek, Chris Germany, Judy Townsend, Robin Barbe, Tammi DePaolis, John Craig Taylor, Scott Goodell, Victoria Versen\n",
      "X-cc: \n",
      "X-bcc: \n",
      "X-Folder: \\Sandra_Brawner_Dec2000\\Notes Folders\\Discussion threads\n",
      "X-Origin: Brawner-S\n",
      "X-FileName: sbrawne.nsf\n",
      "\n",
      "I am working with the EOL system development group on improving the reporting \n",
      "capabilities of EOL so that Internal EOL traders can personalised and save \n",
      "report formats.  Currently the system only saves the last report format.  If \n",
      "you have any ideas, thoughts or requests please let me know.\n",
      "I have attached a file with examples of reports that can be generated.  The \n",
      "goal would be to give you the ability to view the information when you need \n",
      "it and in the required format.\n",
      "\n",
      "====================================================================================================\n",
      "====================================================================================================\n",
      "file: farmer-d/all_documents/1713.\n",
      "message:\n",
      "Message-ID: <1581488.1075854007226.JavaMail.evans@thyme>\n",
      "Date: Fri, 2 Jun 2000 04:22:00 -0700 (PDT)\n",
      "From: bryan.hull@enron.com\n",
      "To: o'neal.winfree@enron.com, michael.walters@enron.com, eric.bass@enron.com, \n",
      "\tmatthew.lenhart@enron.com, phillip.love@enron.com, \n",
      "\tdavid.baumbach@enron.com, daren.farmer@enron.com\n",
      "Subject: schedule\n",
      "Mime-Version: 1.0\n",
      "Content-Type: text/plain; charset=us-ascii\n",
      "Content-Transfer-Encoding: 7bit\n",
      "X-From: Bryan Hull\n",
      "X-To: O'Neal D Winfree, Michael Walters, Eric Bass, Matthew Lenhart, Phillip M Love, David Baumbach, Daren J Farmer\n",
      "X-cc: \n",
      "X-bcc: \n",
      "X-Folder: \\Darren_Farmer_Dec2000\\Notes Folders\\All documents\n",
      "X-Origin: Farmer-D\n",
      "X-FileName: dfarmer.nsf\n",
      "\n",
      "Here is our schedule. I need the 10 bucks from those of you who haven't paid \n",
      "yet. Do you want to try to get together this weekend and get some practice \n",
      "in? Let me know of your availability.\n",
      "Bryan\n",
      "====================================================================================================\n",
      "====================================================================================================\n",
      "file: perlingiere-d/all_documents/98.\n",
      "message:\n",
      "Message-ID: <28468740.1075842288363.JavaMail.evans@thyme>\n",
      "Date: Thu, 27 Apr 2000 03:24:00 -0700 (PDT)\n",
      "From: debra.perlingiere@enron.com\n",
      "To: julie.meyers@enron.com\n",
      "Subject: Re: DYNEGY MARKETING & TRADE\n",
      "Mime-Version: 1.0\n",
      "Content-Type: text/plain; charset=us-ascii\n",
      "Content-Transfer-Encoding: 7bit\n",
      "X-From: Debra Perlingiere\n",
      "X-To: Julie Meyers\n",
      "X-cc: \n",
      "X-bcc: \n",
      "X-Folder: \\Debra_Perlingiere_Dec2000_June2001_1\\Notes Folders\\All documents\n",
      "X-Origin: PERLINGIERE-D\n",
      "X-FileName: dperlin.nsf\n",
      "\n",
      "I can prepare a draft of a Master Agreement after credit sends me a \n",
      "worksheet.  I will forward your request to them and begin the process as soon \n",
      "as possible.\n",
      "\n",
      "DP\n",
      "====================================================================================================\n"
     ]
    }
   ],
   "source": [
    "# sample some data to eyeball it\n",
    "df_sample = df_train_small.sample(5)\n",
    "for i, row in df_sample.iterrows():\n",
    "    print(\"=\"*100)\n",
    "    print(f\"file: {row['file']}\")\n",
    "    print(f\"message:\\n{row['message']}\")\n",
    "    print(\"=\"*100)"
   ]
  }
 ],
 "metadata": {
  "kernelspec": {
   "display_name": "venv",
   "language": "python",
   "name": "python3"
  },
  "language_info": {
   "codemirror_mode": {
    "name": "ipython",
    "version": 3
   },
   "file_extension": ".py",
   "mimetype": "text/x-python",
   "name": "python",
   "nbconvert_exporter": "python",
   "pygments_lexer": "ipython3",
   "version": "3.10.11"
  }
 },
 "nbformat": 4,
 "nbformat_minor": 2
}
