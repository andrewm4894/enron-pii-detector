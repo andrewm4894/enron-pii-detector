{
 "cells": [
  {
   "cell_type": "markdown",
   "metadata": {},
   "source": [
    "# Prompt Engineering - Evaluation"
   ]
  },
  {
   "cell_type": "markdown",
   "metadata": {},
   "source": [
    "This notebook is used to evaluation the accuracy and performance of any set of LLM generated labels under `./data/labels_llm/{tag}` against the ground truth labels under `./data/labels/`.\n",
    "\n",
    "The approach here is to start with typical evaluation metrics like precision, recall, and F1 score on an overall basis and per entity category which for this project is one of `names`, `phone_numbers`, `email_addresses`, or `physical_addresses`."
   ]
  },
  {
   "cell_type": "code",
   "execution_count": 112,
   "metadata": {},
   "outputs": [],
   "source": [
    "import pandas as pd\n",
    "import pprint as pp\n",
    "import json\n",
    "from src.utils import get_files, clean_message\n",
    "from src.eval import create_labels_dict, merge_labels, calculate_metrics, calculate_overall_metrics"
   ]
  },
  {
   "cell_type": "code",
   "execution_count": 113,
   "metadata": {},
   "outputs": [],
   "source": [
    "# params\n",
    "\n",
    "# tag we want to evaluate against the ground truth labels\n",
    "tag = \"dev\"\n",
    "data_path = \"./data/emails_train_small.csv\"\n",
    "dataset = data_path.split(\"/\")[-1].split(\".\")[0]"
   ]
  },
  {
   "cell_type": "code",
   "execution_count": 114,
   "metadata": {},
   "outputs": [
    {
     "name": "stdout",
     "output_type": "stream",
     "text": [
      "(10000, 2)\n"
     ]
    }
   ],
   "source": [
    "# lets read the training data in case we want to look at any specific message\n",
    "df = pd.read_csv(data_path)\n",
    "print(df.shape)"
   ]
  },
  {
   "cell_type": "code",
   "execution_count": 115,
   "metadata": {},
   "outputs": [
    {
     "name": "stdout",
     "output_type": "stream",
     "text": [
      "Number of files in the labels folder: 75\n",
      "Number of files in the labels_llm/dev_gpt4_1106_preview folder: 57\n"
     ]
    }
   ],
   "source": [
    "# get a list of all files in the labels folder(s)\n",
    "\n",
    "# ground truth labels\n",
    "files_labels = get_files(f\"./data/labels/\")\n",
    "print(f\"Number of files in the labels folder: {len(files_labels)}\")\n",
    "\n",
    "# labels from the LLM\n",
    "files_labels_llm = get_files(f\"./data/labels_llm/{tag}/\")\n",
    "print(f\"Number of files in the labels_llm/{tag} folder: {len(files_labels_llm)}\")"
   ]
  },
  {
   "cell_type": "code",
   "execution_count": 116,
   "metadata": {},
   "outputs": [],
   "source": [
    "# wrangle data structures a little bit\n",
    "labels_llm = create_labels_dict(files_labels_llm, tag=tag)\n",
    "labels = create_labels_dict(files_labels)"
   ]
  },
  {
   "cell_type": "code",
   "execution_count": 117,
   "metadata": {},
   "outputs": [
    {
     "name": "stdout",
     "output_type": "stream",
     "text": [
      "Number of common labels: 55\n"
     ]
    }
   ],
   "source": [
    "# for all files common between the labels and labels_llm get the actual labels \n",
    "# from the files and merge them into a single dictionary that will be easier to with with\n",
    "labels_final = merge_labels(labels, labels_llm)"
   ]
  },
  {
   "cell_type": "code",
   "execution_count": 118,
   "metadata": {},
   "outputs": [
    {
     "name": "stdout",
     "output_type": "stream",
     "text": [
      "Message:\n",
      "\n",
      "Hi Vince\n",
      "\n",
      "\n",
      "Just wanted to thank you for your participation at POWER 2000  last week and \n",
      "for contributing to the success of the conference. The feedback we  received \n",
      "was absolutely glowing and we were delighted with the smooth-running of  the \n",
      "event. Thank you for being a key part of that. As always, your presentations  \n",
      "went down extremely well and your presence at our events makes a big \n",
      "difference,  as people are alwyas keen to hear both form you personally and \n",
      "from ENRON as a  company.\n",
      "\n",
      "As I mentioned to you, I have recently been given the  responsibility of \n",
      "creating and developing a new conference stream in the  financial technology \n",
      "sector under the Waters brand, so I would like to take this  opportunity to \n",
      "say how much I have enjoyed working with you in the past couple  of years and \n",
      "to wish you the best of luck in the future. Please stay in touch  and if you \n",
      "come to New York, please let me know so I can take you out for a  drink!\n",
      "\n",
      "Best regards and thank you again both for your patience in  helping me \n",
      "research topics and for being so willing to participate at our  events.\n",
      "Emma\n",
      "?\n",
      "?\n",
      "Emma Wolfin\n",
      "Manager, Waters  conferences\n",
      "Tel 212 925 1864 ext 151\n",
      "\n",
      "Ground truth labels:\n",
      "\n",
      "{'email_addresses': [''],\n",
      " 'names': ['Emma Wolfin'],\n",
      " 'phone_numbers': ['212 925 1864 ext 151'],\n",
      " 'physical_addresses': ['']}\n",
      "\n",
      "LLM generated labels:\n",
      "\n",
      "{'email_addresses': ['emw@waters.com'],\n",
      " 'names': ['Vince'],\n",
      " 'phone_numbers': ['212 925 1864 ext 151'],\n",
      " 'physical_addresses': ['New York']}\n"
     ]
    }
   ],
   "source": [
    "# lets look at an example of what we have\n",
    "file = 'kaminski-v/all_documents/9240.'\n",
    "\n",
    "# lets get raw message cleaned in our standardized way\n",
    "print(\"Message:\\n\")\n",
    "print(clean_message(df.query(\"file == @file\").message.values[0]))\n",
    "\n",
    "# lets look at the ground truth labels\n",
    "print(\"\\nGround truth labels:\\n\")\n",
    "pp.pprint(labels_final[file]['labels'])\n",
    "\n",
    "# lets look at the predicted labels from the LLM\n",
    "print(\"\\nLLM generated labels:\\n\")\n",
    "pp.pprint(labels_final[file]['predicted_labels'])"
   ]
  },
  {
   "cell_type": "code",
   "execution_count": 119,
   "metadata": {},
   "outputs": [],
   "source": [
    "# Calculate metrics\n",
    "entity_metrics = calculate_metrics(labels_final)\n",
    "overall_metrics = calculate_overall_metrics(entity_metrics)"
   ]
  },
  {
   "cell_type": "code",
   "execution_count": 120,
   "metadata": {},
   "outputs": [
    {
     "name": "stdout",
     "output_type": "stream",
     "text": [
      "{'dataset': 'emails_train_small',\n",
      " 'entity_metrics': {'email_addresses': {'F1 Score': 0.3495,\n",
      "                                        'FN': 56,\n",
      "                                        'FP': 78,\n",
      "                                        'Precision': 0.3158,\n",
      "                                        'Recall': 0.3913,\n",
      "                                        'TP': 36},\n",
      "                    'names': {'F1 Score': 0.602,\n",
      "                              'FN': 59,\n",
      "                              'FP': 179,\n",
      "                              'Precision': 0.5014,\n",
      "                              'Recall': 0.7531,\n",
      "                              'TP': 180},\n",
      "                    'phone_numbers': {'F1 Score': 0.4842,\n",
      "                                      'FN': 48,\n",
      "                                      'FP': 1,\n",
      "                                      'Precision': 0.9583,\n",
      "                                      'Recall': 0.3239,\n",
      "                                      'TP': 23},\n",
      "                    'physical_addresses': {'F1 Score': 0.0732,\n",
      "                                           'FN': 53,\n",
      "                                           'FP': 23,\n",
      "                                           'Precision': 0.1154,\n",
      "                                           'Recall': 0.0536,\n",
      "                                           'TP': 3}},\n",
      " 'overall_metrics': {'Overall F1 Score': 0.4934,\n",
      "                     'Overall Precision': 0.4627,\n",
      "                     'Overall Recall': 0.5284}}\n"
     ]
    }
   ],
   "source": [
    "# save the metrics to a json file\n",
    "metrics = {\n",
    "    \"dataset\": dataset,\n",
    "    \"entity_metrics\": entity_metrics,\n",
    "    \"overall_metrics\": overall_metrics\n",
    "}\n",
    "pp.pprint(metrics)\n",
    "with open(f\"./data/labels_llm/{tag}/evaluation_metrics_{dataset}.json\", \"w\") as f:\n",
    "    json.dump(metrics, f)\n"
   ]
  }
 ],
 "metadata": {
  "kernelspec": {
   "display_name": "venv",
   "language": "python",
   "name": "python3"
  },
  "language_info": {
   "codemirror_mode": {
    "name": "ipython",
    "version": 3
   },
   "file_extension": ".py",
   "mimetype": "text/x-python",
   "name": "python",
   "nbconvert_exporter": "python",
   "pygments_lexer": "ipython3",
   "version": "3.10.11"
  }
 },
 "nbformat": 4,
 "nbformat_minor": 2
}
